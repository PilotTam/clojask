{
 "cells": [
  {
   "cell_type": "code",
   "execution_count": null,
   "metadata": {},
   "outputs": [],
   "source": [
    "%%time\n",
    "\n",
    "from dask.distributed import Client\n",
    "\n",
    "client = Client(n_workers=4)\n",
    "\n",
    "import dask.dataframe as dd\n",
    "import pandas as pd\n",
    "import os\n",
    "import dask\n",
    "\n",
    "filename = os.path.join('../clojure-datasets/data-Compustat-lohi.csv') # 1.8 M dataset\n",
    "#filename = os.path.join('../clojure-datasets/data-Compustat-x2.csv') # 3.6 M dataset\n",
    "#filename = os.path.join('../clojure-datasets/data-CRSP.csv') # 80 M dataset\n",
    "\n",
    "#crsp_filename = os.path.join('../clojure-datasets/CRSP-extract.csv') # 80 M dataset\n",
    "\n",
    "df = dd.read_csv(filename, dtype={'exchg': 'float64', 'sic': 'float64'})\n",
    "#other = dd.read_csv(crsp_filename)\n",
    "\n",
    "#ddf = dd.from_pandas(df, npartitions=10)\n",
    "\n",
    "# =================== Change this part to test time taken ====================== #\n",
    "\n",
    "# element-wise operations\n",
    "df['new_col'] = df['datacqtr'] + 20 # Compustat\n",
    "#df['new_col'] = df['PRC'] + 20 # CRSP\n",
    "\n",
    "# row-wise\n",
    "#df = df[df.datacqtr > 1000.0]\n",
    "\n",
    "# aggregation\n",
    "#df = df.datacqtr.max()\n",
    "\n",
    "# groupby aggregate\n",
    "#df = df.groupby(df.conm).datafqtr.max()\n",
    "\n",
    "# left join\n",
    "#df = df.join(other, how='left')\n",
    "\n",
    "# left join\n",
    "#df = df.join(other, how='right')\n",
    "\n",
    "# inner join\n",
    "#df = df.join(other, how='inner')\n",
    "\n",
    "# ========================================================================= #\n",
    "\n",
    "#df.to_csv('./output/data-Compustat-output-*.csv') # output as separate csv files\n",
    "df.to_csv('dask_output.csv', single_file=True) # output as a single file"
   ]
  },
  {
   "cell_type": "code",
   "execution_count": null,
   "metadata": {},
   "outputs": [],
   "source": []
  }
 ],
 "metadata": {
  "kernelspec": {
   "display_name": "Python 3 (ipykernel)",
   "language": "python",
   "name": "python3"
  },
  "language_info": {
   "codemirror_mode": {
    "name": "ipython",
    "version": 3
   },
   "file_extension": ".py",
   "mimetype": "text/x-python",
   "name": "python",
   "nbconvert_exporter": "python",
   "pygments_lexer": "ipython3",
   "version": "3.9.6"
  }
 },
 "nbformat": 4,
 "nbformat_minor": 4
}
